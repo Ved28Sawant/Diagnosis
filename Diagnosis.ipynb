{
 "cells": [
  {
   "cell_type": "code",
   "execution_count": 4,
   "id": "76f6aa9e",
   "metadata": {},
   "outputs": [],
   "source": [
    "import pandas as pd\n",
    "import numpy as np\n",
    "import tensorflow as tf"
   ]
  },
  {
   "cell_type": "code",
   "execution_count": 5,
   "id": "078477b2",
   "metadata": {},
   "outputs": [],
   "source": [
    "from tensorflow import keras"
   ]
  },
  {
   "cell_type": "code",
   "execution_count": 7,
   "id": "eb4990fb",
   "metadata": {},
   "outputs": [
    {
     "data": {
      "text/html": [
       "<div>\n",
       "<style scoped>\n",
       "    .dataframe tbody tr th:only-of-type {\n",
       "        vertical-align: middle;\n",
       "    }\n",
       "\n",
       "    .dataframe tbody tr th {\n",
       "        vertical-align: top;\n",
       "    }\n",
       "\n",
       "    .dataframe thead th {\n",
       "        text-align: right;\n",
       "    }\n",
       "</style>\n",
       "<table border=\"1\" class=\"dataframe\">\n",
       "  <thead>\n",
       "    <tr style=\"text-align: right;\">\n",
       "      <th></th>\n",
       "      <th>Seasons</th>\n",
       "      <th>Age</th>\n",
       "      <th>Disease</th>\n",
       "      <th>Trauma</th>\n",
       "      <th>Surgical_intervention</th>\n",
       "      <th>Smoking</th>\n",
       "      <th>Fever</th>\n",
       "      <th>alcohol_consumption</th>\n",
       "      <th>Sitting</th>\n",
       "      <th>Diagnosis</th>\n",
       "    </tr>\n",
       "  </thead>\n",
       "  <tbody>\n",
       "    <tr>\n",
       "      <th>0</th>\n",
       "      <td>-0.33</td>\n",
       "      <td>0.69</td>\n",
       "      <td>0</td>\n",
       "      <td>1</td>\n",
       "      <td>1</td>\n",
       "      <td>0</td>\n",
       "      <td>0.8</td>\n",
       "      <td>0</td>\n",
       "      <td>0.88</td>\n",
       "      <td>N</td>\n",
       "    </tr>\n",
       "    <tr>\n",
       "      <th>1</th>\n",
       "      <td>-0.33</td>\n",
       "      <td>0.94</td>\n",
       "      <td>1</td>\n",
       "      <td>0</td>\n",
       "      <td>1</td>\n",
       "      <td>0</td>\n",
       "      <td>0.8</td>\n",
       "      <td>1</td>\n",
       "      <td>0.31</td>\n",
       "      <td>O</td>\n",
       "    </tr>\n",
       "    <tr>\n",
       "      <th>2</th>\n",
       "      <td>-0.33</td>\n",
       "      <td>0.50</td>\n",
       "      <td>1</td>\n",
       "      <td>0</td>\n",
       "      <td>0</td>\n",
       "      <td>0</td>\n",
       "      <td>1.0</td>\n",
       "      <td>-1</td>\n",
       "      <td>0.50</td>\n",
       "      <td>N</td>\n",
       "    </tr>\n",
       "    <tr>\n",
       "      <th>3</th>\n",
       "      <td>-0.33</td>\n",
       "      <td>0.75</td>\n",
       "      <td>0</td>\n",
       "      <td>1</td>\n",
       "      <td>1</td>\n",
       "      <td>0</td>\n",
       "      <td>1.0</td>\n",
       "      <td>-1</td>\n",
       "      <td>0.38</td>\n",
       "      <td>N</td>\n",
       "    </tr>\n",
       "    <tr>\n",
       "      <th>4</th>\n",
       "      <td>-0.33</td>\n",
       "      <td>0.67</td>\n",
       "      <td>1</td>\n",
       "      <td>1</td>\n",
       "      <td>0</td>\n",
       "      <td>0</td>\n",
       "      <td>0.8</td>\n",
       "      <td>-1</td>\n",
       "      <td>0.50</td>\n",
       "      <td>O</td>\n",
       "    </tr>\n",
       "  </tbody>\n",
       "</table>\n",
       "</div>"
      ],
      "text/plain": [
       "   Seasons   Age  Disease  Trauma  Surgical_intervention  Smoking  Fever  \\\n",
       "0    -0.33  0.69        0       1                      1        0    0.8   \n",
       "1    -0.33  0.94        1       0                      1        0    0.8   \n",
       "2    -0.33  0.50        1       0                      0        0    1.0   \n",
       "3    -0.33  0.75        0       1                      1        0    1.0   \n",
       "4    -0.33  0.67        1       1                      0        0    0.8   \n",
       "\n",
       "   alcohol_consumption   Sitting Diagnosis  \n",
       "0                     0     0.88         N  \n",
       "1                     1     0.31         O  \n",
       "2                    -1     0.50         N  \n",
       "3                    -1     0.38         N  \n",
       "4                    -1     0.50         O  "
      ]
     },
     "execution_count": 7,
     "metadata": {},
     "output_type": "execute_result"
    }
   ],
   "source": [
    "df=pd.read_csv(\"fertility_Diagnosis.csv\")\n",
    "df.head()"
   ]
  },
  {
   "cell_type": "code",
   "execution_count": 8,
   "id": "9f509f00",
   "metadata": {},
   "outputs": [],
   "source": [
    "df['Diagnosis'].replace({'N':0,\"O\":1},inplace=True)"
   ]
  },
  {
   "cell_type": "code",
   "execution_count": 3,
   "id": "f8786bf1",
   "metadata": {},
   "outputs": [
    {
     "data": {
      "text/html": [
       "<div>\n",
       "<style scoped>\n",
       "    .dataframe tbody tr th:only-of-type {\n",
       "        vertical-align: middle;\n",
       "    }\n",
       "\n",
       "    .dataframe tbody tr th {\n",
       "        vertical-align: top;\n",
       "    }\n",
       "\n",
       "    .dataframe thead th {\n",
       "        text-align: right;\n",
       "    }\n",
       "</style>\n",
       "<table border=\"1\" class=\"dataframe\">\n",
       "  <thead>\n",
       "    <tr style=\"text-align: right;\">\n",
       "      <th></th>\n",
       "      <th>Seasons</th>\n",
       "      <th>Age</th>\n",
       "      <th>Disease</th>\n",
       "      <th>Trauma</th>\n",
       "      <th>Surgical_intervention</th>\n",
       "      <th>Smoking</th>\n",
       "      <th>Fever</th>\n",
       "      <th>alcohol_consumption</th>\n",
       "      <th>Sitting</th>\n",
       "      <th>Diagnosis</th>\n",
       "    </tr>\n",
       "  </thead>\n",
       "  <tbody>\n",
       "    <tr>\n",
       "      <th>0</th>\n",
       "      <td>-0.316753</td>\n",
       "      <td>0.173970</td>\n",
       "      <td>-2.586949</td>\n",
       "      <td>1.128152</td>\n",
       "      <td>0.980196</td>\n",
       "      <td>-0.32881</td>\n",
       "      <td>-0.192006</td>\n",
       "      <td>0.434959</td>\n",
       "      <td>2.551481</td>\n",
       "      <td>0</td>\n",
       "    </tr>\n",
       "    <tr>\n",
       "      <th>1</th>\n",
       "      <td>-0.316753</td>\n",
       "      <td>2.245043</td>\n",
       "      <td>0.386556</td>\n",
       "      <td>-0.886405</td>\n",
       "      <td>0.980196</td>\n",
       "      <td>-0.32881</td>\n",
       "      <td>-0.192006</td>\n",
       "      <td>1.677698</td>\n",
       "      <td>-0.521943</td>\n",
       "      <td>1</td>\n",
       "    </tr>\n",
       "    <tr>\n",
       "      <th>2</th>\n",
       "      <td>-0.316753</td>\n",
       "      <td>-1.400045</td>\n",
       "      <td>0.386556</td>\n",
       "      <td>-0.886405</td>\n",
       "      <td>-1.020204</td>\n",
       "      <td>-0.32881</td>\n",
       "      <td>1.008032</td>\n",
       "      <td>-0.807781</td>\n",
       "      <td>0.502532</td>\n",
       "      <td>0</td>\n",
       "    </tr>\n",
       "    <tr>\n",
       "      <th>3</th>\n",
       "      <td>-0.316753</td>\n",
       "      <td>0.671028</td>\n",
       "      <td>-2.586949</td>\n",
       "      <td>1.128152</td>\n",
       "      <td>0.980196</td>\n",
       "      <td>-0.32881</td>\n",
       "      <td>1.008032</td>\n",
       "      <td>-0.807781</td>\n",
       "      <td>-0.144505</td>\n",
       "      <td>0</td>\n",
       "    </tr>\n",
       "    <tr>\n",
       "      <th>4</th>\n",
       "      <td>-0.316753</td>\n",
       "      <td>0.008284</td>\n",
       "      <td>0.386556</td>\n",
       "      <td>1.128152</td>\n",
       "      <td>-1.020204</td>\n",
       "      <td>-0.32881</td>\n",
       "      <td>-0.192006</td>\n",
       "      <td>-0.807781</td>\n",
       "      <td>0.502532</td>\n",
       "      <td>1</td>\n",
       "    </tr>\n",
       "  </tbody>\n",
       "</table>\n",
       "</div>"
      ],
      "text/plain": [
       "    Seasons       Age   Disease    Trauma  Surgical_intervention  Smoking  \\\n",
       "0 -0.316753  0.173970 -2.586949  1.128152               0.980196 -0.32881   \n",
       "1 -0.316753  2.245043  0.386556 -0.886405               0.980196 -0.32881   \n",
       "2 -0.316753 -1.400045  0.386556 -0.886405              -1.020204 -0.32881   \n",
       "3 -0.316753  0.671028 -2.586949  1.128152               0.980196 -0.32881   \n",
       "4 -0.316753  0.008284  0.386556  1.128152              -1.020204 -0.32881   \n",
       "\n",
       "      Fever  alcohol_consumption   Sitting  Diagnosis  \n",
       "0 -0.192006             0.434959  2.551481          0  \n",
       "1 -0.192006             1.677698 -0.521943          1  \n",
       "2  1.008032            -0.807781  0.502532          0  \n",
       "3  1.008032            -0.807781 -0.144505          0  \n",
       "4 -0.192006            -0.807781  0.502532          1  "
      ]
     },
     "execution_count": 3,
     "metadata": {},
     "output_type": "execute_result"
    }
   ],
   "source": [
    "df.head()"
   ]
  },
  {
   "cell_type": "code",
   "execution_count": 14,
   "id": "4c629b2c",
   "metadata": {},
   "outputs": [],
   "source": [
    "columns=['Seasons','Age','Disease','Trauma','Surgical_intervention','Smoking','Fever','alcohol_consumption�','Sitting']\n",
    "from sklearn.preprocessing import MinMaxScaler\n",
    "scaler=MinMaxScaler()\n",
    "df[columns]=scaler.fit_transform(df[columns])"
   ]
  },
  {
   "cell_type": "code",
   "execution_count": 15,
   "id": "aa86abc4",
   "metadata": {},
   "outputs": [
    {
     "data": {
      "text/html": [
       "<div>\n",
       "<style scoped>\n",
       "    .dataframe tbody tr th:only-of-type {\n",
       "        vertical-align: middle;\n",
       "    }\n",
       "\n",
       "    .dataframe tbody tr th {\n",
       "        vertical-align: top;\n",
       "    }\n",
       "\n",
       "    .dataframe thead th {\n",
       "        text-align: right;\n",
       "    }\n",
       "</style>\n",
       "<table border=\"1\" class=\"dataframe\">\n",
       "  <thead>\n",
       "    <tr style=\"text-align: right;\">\n",
       "      <th></th>\n",
       "      <th>Seasons</th>\n",
       "      <th>Age</th>\n",
       "      <th>Disease</th>\n",
       "      <th>Trauma</th>\n",
       "      <th>Surgical_intervention</th>\n",
       "      <th>Smoking</th>\n",
       "      <th>Fever</th>\n",
       "      <th>alcohol_consumption�</th>\n",
       "      <th>Sitting</th>\n",
       "      <th>Diagnosis</th>\n",
       "    </tr>\n",
       "  </thead>\n",
       "  <tbody>\n",
       "    <tr>\n",
       "      <th>0</th>\n",
       "      <td>0.335</td>\n",
       "      <td>0.38</td>\n",
       "      <td>0.0</td>\n",
       "      <td>1.0</td>\n",
       "      <td>1.0</td>\n",
       "      <td>0.5</td>\n",
       "      <td>0.75</td>\n",
       "      <td>0.5</td>\n",
       "      <td>0.872340</td>\n",
       "      <td>0</td>\n",
       "    </tr>\n",
       "    <tr>\n",
       "      <th>1</th>\n",
       "      <td>0.335</td>\n",
       "      <td>0.88</td>\n",
       "      <td>1.0</td>\n",
       "      <td>0.0</td>\n",
       "      <td>1.0</td>\n",
       "      <td>0.5</td>\n",
       "      <td>0.75</td>\n",
       "      <td>1.0</td>\n",
       "      <td>0.265957</td>\n",
       "      <td>1</td>\n",
       "    </tr>\n",
       "    <tr>\n",
       "      <th>2</th>\n",
       "      <td>0.335</td>\n",
       "      <td>0.00</td>\n",
       "      <td>1.0</td>\n",
       "      <td>0.0</td>\n",
       "      <td>0.0</td>\n",
       "      <td>0.5</td>\n",
       "      <td>1.00</td>\n",
       "      <td>0.0</td>\n",
       "      <td>0.468085</td>\n",
       "      <td>0</td>\n",
       "    </tr>\n",
       "    <tr>\n",
       "      <th>3</th>\n",
       "      <td>0.335</td>\n",
       "      <td>0.50</td>\n",
       "      <td>0.0</td>\n",
       "      <td>1.0</td>\n",
       "      <td>1.0</td>\n",
       "      <td>0.5</td>\n",
       "      <td>1.00</td>\n",
       "      <td>0.0</td>\n",
       "      <td>0.340426</td>\n",
       "      <td>0</td>\n",
       "    </tr>\n",
       "    <tr>\n",
       "      <th>4</th>\n",
       "      <td>0.335</td>\n",
       "      <td>0.34</td>\n",
       "      <td>1.0</td>\n",
       "      <td>1.0</td>\n",
       "      <td>0.0</td>\n",
       "      <td>0.5</td>\n",
       "      <td>0.75</td>\n",
       "      <td>0.0</td>\n",
       "      <td>0.468085</td>\n",
       "      <td>1</td>\n",
       "    </tr>\n",
       "  </tbody>\n",
       "</table>\n",
       "</div>"
      ],
      "text/plain": [
       "   Seasons   Age  Disease  Trauma  Surgical_intervention  Smoking  Fever  \\\n",
       "0    0.335  0.38      0.0     1.0                    1.0      0.5   0.75   \n",
       "1    0.335  0.88      1.0     0.0                    1.0      0.5   0.75   \n",
       "2    0.335  0.00      1.0     0.0                    0.0      0.5   1.00   \n",
       "3    0.335  0.50      0.0     1.0                    1.0      0.5   1.00   \n",
       "4    0.335  0.34      1.0     1.0                    0.0      0.5   0.75   \n",
       "\n",
       "   alcohol_consumption�   Sitting  Diagnosis  \n",
       "0                   0.5  0.872340          0  \n",
       "1                   1.0  0.265957          1  \n",
       "2                   0.0  0.468085          0  \n",
       "3                   0.0  0.340426          0  \n",
       "4                   0.0  0.468085          1  "
      ]
     },
     "execution_count": 15,
     "metadata": {},
     "output_type": "execute_result"
    }
   ],
   "source": [
    "df.head()"
   ]
  },
  {
   "cell_type": "code",
   "execution_count": 16,
   "id": "22144330",
   "metadata": {},
   "outputs": [],
   "source": [
    "df.to_csv(r'C:\\Users\\VEDANG SAWANT\\Desktop\\Projects\\Diagnosis (SAS)\\std_Diagnosis.csv')"
   ]
  },
  {
   "cell_type": "code",
   "execution_count": 4,
   "id": "2f2faa72",
   "metadata": {},
   "outputs": [],
   "source": [
    "df_class_0=df[df['Diagnosis']==0]\n",
    "df_class_1=df[df['Diagnosis']==1]"
   ]
  },
  {
   "cell_type": "code",
   "execution_count": 5,
   "id": "e0e29598",
   "metadata": {},
   "outputs": [
    {
     "data": {
      "text/plain": [
       "0    88\n",
       "1    12\n",
       "Name: Diagnosis, dtype: int64"
      ]
     },
     "execution_count": 5,
     "metadata": {},
     "output_type": "execute_result"
    }
   ],
   "source": [
    "df.Diagnosis.value_counts()"
   ]
  },
  {
   "cell_type": "code",
   "execution_count": 6,
   "id": "68cd1dec",
   "metadata": {},
   "outputs": [
    {
     "data": {
      "text/plain": [
       "(88, 10)"
      ]
     },
     "execution_count": 6,
     "metadata": {},
     "output_type": "execute_result"
    }
   ],
   "source": [
    "df_class_1_over=df_class_1.sample(88,replace=True)\n",
    "df_class_1_over.shape"
   ]
  },
  {
   "cell_type": "code",
   "execution_count": 7,
   "id": "9f4776c4",
   "metadata": {},
   "outputs": [],
   "source": [
    "df_test_over=pd.concat([df_class_0,df_class_1_over],axis=0)"
   ]
  },
  {
   "cell_type": "code",
   "execution_count": 8,
   "id": "f8766629",
   "metadata": {},
   "outputs": [
    {
     "data": {
      "text/plain": [
       "(176, 10)"
      ]
     },
     "execution_count": 8,
     "metadata": {},
     "output_type": "execute_result"
    }
   ],
   "source": [
    "df_test_over.shape"
   ]
  },
  {
   "cell_type": "code",
   "execution_count": 9,
   "id": "9df1edda",
   "metadata": {},
   "outputs": [
    {
     "data": {
      "text/html": [
       "<div>\n",
       "<style scoped>\n",
       "    .dataframe tbody tr th:only-of-type {\n",
       "        vertical-align: middle;\n",
       "    }\n",
       "\n",
       "    .dataframe tbody tr th {\n",
       "        vertical-align: top;\n",
       "    }\n",
       "\n",
       "    .dataframe thead th {\n",
       "        text-align: right;\n",
       "    }\n",
       "</style>\n",
       "<table border=\"1\" class=\"dataframe\">\n",
       "  <thead>\n",
       "    <tr style=\"text-align: right;\">\n",
       "      <th></th>\n",
       "      <th>Seasons</th>\n",
       "      <th>Age</th>\n",
       "      <th>Disease</th>\n",
       "      <th>Trauma</th>\n",
       "      <th>Surgical_intervention</th>\n",
       "      <th>Smoking</th>\n",
       "      <th>Fever</th>\n",
       "      <th>alcohol_consumption</th>\n",
       "      <th>Sitting</th>\n",
       "      <th>Diagnosis</th>\n",
       "    </tr>\n",
       "  </thead>\n",
       "  <tbody>\n",
       "    <tr>\n",
       "      <th>0</th>\n",
       "      <td>-0.316753</td>\n",
       "      <td>0.173970</td>\n",
       "      <td>-2.586949</td>\n",
       "      <td>1.128152</td>\n",
       "      <td>0.980196</td>\n",
       "      <td>-0.328810</td>\n",
       "      <td>-0.192006</td>\n",
       "      <td>0.434959</td>\n",
       "      <td>2.551481</td>\n",
       "      <td>0</td>\n",
       "    </tr>\n",
       "    <tr>\n",
       "      <th>2</th>\n",
       "      <td>-0.316753</td>\n",
       "      <td>-1.400045</td>\n",
       "      <td>0.386556</td>\n",
       "      <td>-0.886405</td>\n",
       "      <td>-1.020204</td>\n",
       "      <td>-0.328810</td>\n",
       "      <td>1.008032</td>\n",
       "      <td>-0.807781</td>\n",
       "      <td>0.502532</td>\n",
       "      <td>0</td>\n",
       "    </tr>\n",
       "    <tr>\n",
       "      <th>3</th>\n",
       "      <td>-0.316753</td>\n",
       "      <td>0.671028</td>\n",
       "      <td>-2.586949</td>\n",
       "      <td>1.128152</td>\n",
       "      <td>0.980196</td>\n",
       "      <td>-0.328810</td>\n",
       "      <td>1.008032</td>\n",
       "      <td>-0.807781</td>\n",
       "      <td>-0.144505</td>\n",
       "      <td>0</td>\n",
       "    </tr>\n",
       "    <tr>\n",
       "      <th>5</th>\n",
       "      <td>-0.316753</td>\n",
       "      <td>0.008284</td>\n",
       "      <td>0.386556</td>\n",
       "      <td>-0.886405</td>\n",
       "      <td>0.980196</td>\n",
       "      <td>-0.328810</td>\n",
       "      <td>-0.192006</td>\n",
       "      <td>0.434959</td>\n",
       "      <td>0.502532</td>\n",
       "      <td>0</td>\n",
       "    </tr>\n",
       "    <tr>\n",
       "      <th>6</th>\n",
       "      <td>-0.316753</td>\n",
       "      <td>0.008284</td>\n",
       "      <td>-2.586949</td>\n",
       "      <td>-0.886405</td>\n",
       "      <td>-1.020204</td>\n",
       "      <td>-2.059391</td>\n",
       "      <td>-0.192006</td>\n",
       "      <td>-0.807781</td>\n",
       "      <td>0.179013</td>\n",
       "      <td>0</td>\n",
       "    </tr>\n",
       "    <tr>\n",
       "      <th>...</th>\n",
       "      <td>...</td>\n",
       "      <td>...</td>\n",
       "      <td>...</td>\n",
       "      <td>...</td>\n",
       "      <td>...</td>\n",
       "      <td>...</td>\n",
       "      <td>...</td>\n",
       "      <td>...</td>\n",
       "      <td>...</td>\n",
       "      <td>...</td>\n",
       "    </tr>\n",
       "    <tr>\n",
       "      <th>19</th>\n",
       "      <td>1.360990</td>\n",
       "      <td>0.008284</td>\n",
       "      <td>0.386556</td>\n",
       "      <td>-0.886405</td>\n",
       "      <td>-1.020204</td>\n",
       "      <td>-0.328810</td>\n",
       "      <td>-0.192006</td>\n",
       "      <td>1.677698</td>\n",
       "      <td>-0.144505</td>\n",
       "      <td>1</td>\n",
       "    </tr>\n",
       "    <tr>\n",
       "      <th>29</th>\n",
       "      <td>1.360990</td>\n",
       "      <td>0.008284</td>\n",
       "      <td>-2.586949</td>\n",
       "      <td>-0.886405</td>\n",
       "      <td>0.980196</td>\n",
       "      <td>-0.328810</td>\n",
       "      <td>-1.392045</td>\n",
       "      <td>0.434959</td>\n",
       "      <td>0.502532</td>\n",
       "      <td>1</td>\n",
       "    </tr>\n",
       "    <tr>\n",
       "      <th>29</th>\n",
       "      <td>1.360990</td>\n",
       "      <td>0.008284</td>\n",
       "      <td>-2.586949</td>\n",
       "      <td>-0.886405</td>\n",
       "      <td>0.980196</td>\n",
       "      <td>-0.328810</td>\n",
       "      <td>-1.392045</td>\n",
       "      <td>0.434959</td>\n",
       "      <td>0.502532</td>\n",
       "      <td>1</td>\n",
       "    </tr>\n",
       "    <tr>\n",
       "      <th>70</th>\n",
       "      <td>-0.316753</td>\n",
       "      <td>-1.400045</td>\n",
       "      <td>0.386556</td>\n",
       "      <td>1.128152</td>\n",
       "      <td>-1.020204</td>\n",
       "      <td>-2.059391</td>\n",
       "      <td>-0.192006</td>\n",
       "      <td>0.434959</td>\n",
       "      <td>2.551481</td>\n",
       "      <td>1</td>\n",
       "    </tr>\n",
       "    <tr>\n",
       "      <th>26</th>\n",
       "      <td>1.360990</td>\n",
       "      <td>0.008284</td>\n",
       "      <td>0.386556</td>\n",
       "      <td>-0.886405</td>\n",
       "      <td>0.980196</td>\n",
       "      <td>-0.328810</td>\n",
       "      <td>-1.392045</td>\n",
       "      <td>-0.807781</td>\n",
       "      <td>-0.144505</td>\n",
       "      <td>1</td>\n",
       "    </tr>\n",
       "  </tbody>\n",
       "</table>\n",
       "<p>176 rows × 10 columns</p>\n",
       "</div>"
      ],
      "text/plain": [
       "     Seasons       Age   Disease    Trauma  Surgical_intervention   Smoking  \\\n",
       "0  -0.316753  0.173970 -2.586949  1.128152               0.980196 -0.328810   \n",
       "2  -0.316753 -1.400045  0.386556 -0.886405              -1.020204 -0.328810   \n",
       "3  -0.316753  0.671028 -2.586949  1.128152               0.980196 -0.328810   \n",
       "5  -0.316753  0.008284  0.386556 -0.886405               0.980196 -0.328810   \n",
       "6  -0.316753  0.008284 -2.586949 -0.886405              -1.020204 -2.059391   \n",
       "..       ...       ...       ...       ...                    ...       ...   \n",
       "19  1.360990  0.008284  0.386556 -0.886405              -1.020204 -0.328810   \n",
       "29  1.360990  0.008284 -2.586949 -0.886405               0.980196 -0.328810   \n",
       "29  1.360990  0.008284 -2.586949 -0.886405               0.980196 -0.328810   \n",
       "70 -0.316753 -1.400045  0.386556  1.128152              -1.020204 -2.059391   \n",
       "26  1.360990  0.008284  0.386556 -0.886405               0.980196 -0.328810   \n",
       "\n",
       "       Fever  alcohol_consumption   Sitting  Diagnosis  \n",
       "0  -0.192006             0.434959  2.551481          0  \n",
       "2   1.008032            -0.807781  0.502532          0  \n",
       "3   1.008032            -0.807781 -0.144505          0  \n",
       "5  -0.192006             0.434959  0.502532          0  \n",
       "6  -0.192006            -0.807781  0.179013          0  \n",
       "..       ...                  ...       ...        ...  \n",
       "19 -0.192006             1.677698 -0.144505          1  \n",
       "29 -1.392045             0.434959  0.502532          1  \n",
       "29 -1.392045             0.434959  0.502532          1  \n",
       "70 -0.192006             0.434959  2.551481          1  \n",
       "26 -1.392045            -0.807781 -0.144505          1  \n",
       "\n",
       "[176 rows x 10 columns]"
      ]
     },
     "execution_count": 9,
     "metadata": {},
     "output_type": "execute_result"
    }
   ],
   "source": [
    "df_test_over"
   ]
  },
  {
   "cell_type": "code",
   "execution_count": 10,
   "id": "c6dad47e",
   "metadata": {},
   "outputs": [],
   "source": [
    "df_test_over.to_csv(r\"C:\\Users\\VEDANG SAWANT\\Desktop\\Projects\\Diagnosis (SAS)\\diagnosis_over.csv\")"
   ]
  },
  {
   "cell_type": "code",
   "execution_count": 9,
   "id": "5f4cc682",
   "metadata": {},
   "outputs": [],
   "source": [
    "x=df.drop('Diagnosis',axis=1)\n",
    "y=df['Diagnosis']"
   ]
  },
  {
   "cell_type": "code",
   "execution_count": 10,
   "id": "ad1ed8ca",
   "metadata": {},
   "outputs": [],
   "source": [
    "from sklearn.model_selection import train_test_split\n",
    "x_train,x_test,y_train,y_test=train_test_split(x,y,test_size=0.8)"
   ]
  },
  {
   "cell_type": "code",
   "execution_count": 11,
   "id": "70b110f5",
   "metadata": {},
   "outputs": [
    {
     "data": {
      "text/plain": [
       "(20, 9)"
      ]
     },
     "execution_count": 11,
     "metadata": {},
     "output_type": "execute_result"
    }
   ],
   "source": [
    "x_train.shape"
   ]
  },
  {
   "cell_type": "code",
   "execution_count": 19,
   "id": "96c9e4d6",
   "metadata": {},
   "outputs": [
    {
     "data": {
      "text/plain": [
       "(20,)"
      ]
     },
     "execution_count": 19,
     "metadata": {},
     "output_type": "execute_result"
    }
   ],
   "source": [
    "y_train.shape"
   ]
  },
  {
   "cell_type": "code",
   "execution_count": 21,
   "id": "22acbf71",
   "metadata": {},
   "outputs": [
    {
     "name": "stdout",
     "output_type": "stream",
     "text": [
      "Epoch 1/30\n",
      "1/1 [==============================] - 0s 301ms/step - loss: 0.6434 - accuracy: 0.7500\n",
      "Epoch 2/30\n",
      "1/1 [==============================] - 0s 970us/step - loss: 0.6403 - accuracy: 0.7500\n",
      "Epoch 3/30\n",
      "1/1 [==============================] - 0s 2ms/step - loss: 0.6372 - accuracy: 0.7500\n",
      "Epoch 4/30\n",
      "1/1 [==============================] - 0s 2ms/step - loss: 0.6342 - accuracy: 0.7500\n",
      "Epoch 5/30\n",
      "1/1 [==============================] - 0s 2ms/step - loss: 0.6312 - accuracy: 0.7500\n",
      "Epoch 6/30\n",
      "1/1 [==============================] - 0s 998us/step - loss: 0.6282 - accuracy: 0.7500\n",
      "Epoch 7/30\n",
      "1/1 [==============================] - 0s 958us/step - loss: 0.6252 - accuracy: 0.7500\n",
      "Epoch 8/30\n",
      "1/1 [==============================] - 0s 996us/step - loss: 0.6224 - accuracy: 0.7500\n",
      "Epoch 9/30\n",
      "1/1 [==============================] - 0s 1ms/step - loss: 0.6195 - accuracy: 0.8000\n",
      "Epoch 10/30\n",
      "1/1 [==============================] - 0s 2ms/step - loss: 0.6167 - accuracy: 0.8000\n",
      "Epoch 11/30\n",
      "1/1 [==============================] - 0s 2ms/step - loss: 0.6138 - accuracy: 0.8000\n",
      "Epoch 12/30\n",
      "1/1 [==============================] - 0s 980us/step - loss: 0.6109 - accuracy: 0.8000\n",
      "Epoch 13/30\n",
      "1/1 [==============================] - 0s 1ms/step - loss: 0.6079 - accuracy: 0.8000\n",
      "Epoch 14/30\n",
      "1/1 [==============================] - 0s 1ms/step - loss: 0.6049 - accuracy: 0.8000\n",
      "Epoch 15/30\n",
      "1/1 [==============================] - 0s 972us/step - loss: 0.6019 - accuracy: 0.8000\n",
      "Epoch 16/30\n",
      "1/1 [==============================] - 0s 2ms/step - loss: 0.5990 - accuracy: 0.8000\n",
      "Epoch 17/30\n",
      "1/1 [==============================] - 0s 2ms/step - loss: 0.5960 - accuracy: 0.8000\n",
      "Epoch 18/30\n",
      "1/1 [==============================] - 0s 2ms/step - loss: 0.5931 - accuracy: 0.8000\n",
      "Epoch 19/30\n",
      "1/1 [==============================] - 0s 982us/step - loss: 0.5901 - accuracy: 0.8000\n",
      "Epoch 20/30\n",
      "1/1 [==============================] - 0s 986us/step - loss: 0.5871 - accuracy: 0.8000\n",
      "Epoch 21/30\n",
      "1/1 [==============================] - 0s 2ms/step - loss: 0.5843 - accuracy: 0.8000\n",
      "Epoch 22/30\n",
      "1/1 [==============================] - 0s 2ms/step - loss: 0.5815 - accuracy: 0.8000\n",
      "Epoch 23/30\n",
      "1/1 [==============================] - 0s 2ms/step - loss: 0.5788 - accuracy: 0.8000\n",
      "Epoch 24/30\n",
      "1/1 [==============================] - 0s 979us/step - loss: 0.5761 - accuracy: 0.8000\n",
      "Epoch 25/30\n",
      "1/1 [==============================] - 0s 998us/step - loss: 0.5733 - accuracy: 0.8000\n",
      "Epoch 26/30\n",
      "1/1 [==============================] - 0s 2ms/step - loss: 0.5706 - accuracy: 0.8000\n",
      "Epoch 27/30\n",
      "1/1 [==============================] - 0s 973us/step - loss: 0.5679 - accuracy: 0.8000\n",
      "Epoch 28/30\n",
      "1/1 [==============================] - 0s 2ms/step - loss: 0.5653 - accuracy: 0.8000\n",
      "Epoch 29/30\n",
      "1/1 [==============================] - 0s 2ms/step - loss: 0.5627 - accuracy: 0.8000\n",
      "Epoch 30/30\n",
      "1/1 [==============================] - 0s 976us/step - loss: 0.5601 - accuracy: 0.8000\n"
     ]
    },
    {
     "data": {
      "text/plain": [
       "<keras.callbacks.History at 0x2c2274bb970>"
      ]
     },
     "execution_count": 21,
     "metadata": {},
     "output_type": "execute_result"
    }
   ],
   "source": [
    "model = keras.Sequential([\n",
    "    keras.layers.Dense(9, input_shape=(9,), activation='relu'),\n",
    "    keras.layers.Dense(1, activation='sigmoid')\n",
    "])\n",
    "\n",
    "model.compile(optimizer='adam',\n",
    "              loss='binary_crossentropy',\n",
    "              metrics=['accuracy'])\n",
    "\n",
    "model.fit(x_train, y_train, epochs=30)"
   ]
  },
  {
   "cell_type": "code",
   "execution_count": 22,
   "id": "d518e547",
   "metadata": {},
   "outputs": [
    {
     "name": "stdout",
     "output_type": "stream",
     "text": [
      "3/3 [==============================] - 0s 702us/step - loss: 0.4419 - accuracy: 0.9000\n"
     ]
    },
    {
     "data": {
      "text/plain": [
       "[0.44190484285354614, 0.8999999761581421]"
      ]
     },
     "execution_count": 22,
     "metadata": {},
     "output_type": "execute_result"
    }
   ],
   "source": [
    "model.evaluate(x_test,y_test)"
   ]
  },
  {
   "cell_type": "code",
   "execution_count": 44,
   "id": "e4752e56",
   "metadata": {},
   "outputs": [],
   "source": [
    "from sklearn.linear_model import LogisticRegression as LogReg\n",
    "from sklearn.metrics import f1_score\n",
    "\n",
    "logreg = LogReg()\n",
    "\n",
    "# Fitting the model\n",
    "model=logreg.fit(x_train, y_train)"
   ]
  },
  {
   "cell_type": "code",
   "execution_count": 46,
   "id": "8fe5eefd",
   "metadata": {},
   "outputs": [
    {
     "name": "stdout",
     "output_type": "stream",
     "text": [
      "Test f1_score     0.0\n"
     ]
    }
   ],
   "source": [
    "train_predict = model.predict(x_train)\n",
    "k = f1_score(train_predict, y_train)\n",
    "print('Test f1_score    ', k )"
   ]
  },
  {
   "cell_type": "code",
   "execution_count": 45,
   "id": "cfc5be1e",
   "metadata": {},
   "outputs": [
    {
     "name": "stdout",
     "output_type": "stream",
     "text": [
      "Test f1_score     0.0\n"
     ]
    }
   ],
   "source": [
    "test_predict = model.predict(x_test)\n",
    "k = f1_score(test_predict, y_test)\n",
    "print('Test f1_score    ', k )"
   ]
  },
  {
   "cell_type": "code",
   "execution_count": 23,
   "id": "2d8251a1",
   "metadata": {},
   "outputs": [],
   "source": [
    "df_test_over.to_csv(r\"C:\\Users\\VEDANG SAWANT\\Desktop\\Projects\\Diagnosis (SAS)\\diagnosis_over.csv\")"
   ]
  },
  {
   "cell_type": "code",
   "execution_count": null,
   "id": "ba299246",
   "metadata": {},
   "outputs": [],
   "source": [
    "import seaborn as sb\n",
    "sb.boxplot(df[''])"
   ]
  }
 ],
 "metadata": {
  "kernelspec": {
   "display_name": "Python 3",
   "language": "python",
   "name": "python3"
  },
  "language_info": {
   "codemirror_mode": {
    "name": "ipython",
    "version": 3
   },
   "file_extension": ".py",
   "mimetype": "text/x-python",
   "name": "python",
   "nbconvert_exporter": "python",
   "pygments_lexer": "ipython3",
   "version": "3.8.8"
  }
 },
 "nbformat": 4,
 "nbformat_minor": 5
}
